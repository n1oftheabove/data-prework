{
 "cells": [
  {
   "cell_type": "markdown",
   "metadata": {},
   "source": [
    "<img src=\"https://bit.ly/2VnXWr2\" width=\"100\" align=\"left\"/>"
   ]
  },
  {
   "cell_type": "markdown",
   "metadata": {},
   "source": [
    "# Robin Hood\n",
    "Robin Hood has entered a competition to win the archery contest in Sherwood. With his bow and arrows, he needs to shoot on a target and try to hit as close as possible to the center.\n",
    "\n",
    "![](images/arrows.jpg)\n",
    "\n",
    "## Context\n",
    "In this challenge, the landing position of arrows shot by archers in the competition will be represented using 2-dimensional coordinates. \n",
    "\n",
    "In the 2-dimensional space, a point can be defined by a pair of values that correspond to the horizontal coordinate (x) and the vertical coordinate (y). For example, in our case, an arrow that hits the center of the archery target will land in position (0, 0) on the coordinate axes. \n",
    "\n",
    "The space can be divided into 4 zones (quadrants): Q1, Q2, Q3, Q4. If a point is in Q1, both its x coordinate and y coordinate are positive. Any point with a null x or y coordinate is considered to not belong to any quadrant. \n",
    "\n",
    "If you want to know more about the cartesian coordinate system, you can check this [link](https://en.wikipedia.org/wiki/Cartesian_coordinate_system). \n",
    "\n",
    "## Tools\n",
    "You don't necessarily need to use all the tools. Maybe you opt to use some of them or completely different ones, they are given to help you shape the exercise. Programming exercises can be solved in many different ways.\n",
    "* Data structures: **lists, sets, tuples**\n",
    "* Conditional statements: **if-elif-else**\n",
    "* Loop: **while/for**\n",
    "* Minimum (optional sorting)\n",
    "\n",
    "## Tasks\n",
    "Robin Hood has hit the following points:"
   ]
  },
  {
   "cell_type": "code",
   "execution_count": 2,
   "metadata": {},
   "outputs": [],
   "source": [
    "points = [(4, 5), (-0, 2), (4, 7), (1, -3), (3, -2), (4, 5), (3, 2), (5, 7), (-5, 7), (2, 2), (-4, 5), (0, -2),\n",
    "          (-4, 7), (-1, 3), (-3, 2), (-4, -5), (-3, 2), (5, 7), (5, 7), (2, 2), (9, 9), (-8, -9)]"
   ]
  },
  {
   "cell_type": "markdown",
   "metadata": {},
   "source": [
    "#### 1. Robin Hood is famous for hitting an arrow with another arrow. Find the coordinates of the points where an arrow hits another arrow."
   ]
  },
  {
   "cell_type": "code",
   "execution_count": 13,
   "metadata": {},
   "outputs": [
    {
     "name": "stdout",
     "output_type": "stream",
     "text": [
      "Points that are hit multiple times are: \n",
      "[(4, 5), (-3, 2), (5, 7), (2, 2)]\n"
     ]
    }
   ],
   "source": [
    "# Create a list containing all the points that are hit multiple times\n",
    "multi_hits = []\n",
    "\n",
    "checked = {}\n",
    "\n",
    "for point in points:\n",
    "    if point not in checked:\n",
    "        checked[point] = 1\n",
    "    else:\n",
    "        if checked[point] == 1:\n",
    "            multi_hits.append(point)\n",
    "        checked[point] += 1\n",
    "        \n",
    "print(\"Points that are hit multiple times are: \\n\" + str(multi_hits))"
   ]
  },
  {
   "cell_type": "markdown",
   "metadata": {},
   "source": [
    "#### 2. Calculate how many arrows have fallen in each quadrant. \n",
    "**Note**: the arrows that fall in the axis (x=0 or y=0) don't belong to any quadrant."
   ]
  },
  {
   "cell_type": "code",
   "execution_count": 15,
   "metadata": {},
   "outputs": [
    {
     "name": "stdout",
     "output_type": "stream",
     "text": [
      "10 counts in quadrant 1\n",
      "6 counts in quadrant 2\n",
      "2 counts in quadrant 3\n",
      "2 counts in quadrant 4\n"
     ]
    }
   ],
   "source": [
    "# Dict of counts for each Quadrant\n",
    "q_counts = {'1': 0,\n",
    "            '2': 0,\n",
    "            '3': 0,\n",
    "            '4': 0\n",
    "           }\n",
    "\n",
    "for point in points:\n",
    "    if point[0] > 0 and point[1] > 0:\n",
    "        q_counts['1'] += 1\n",
    "    elif point[0] < 0 and point[1] > 0:\n",
    "        q_counts['2'] += 1\n",
    "    elif point[0] < 0 and point[1] < 0:\n",
    "        q_counts['3'] += 1\n",
    "    elif point[0] > 0 and point[1] < 0:\n",
    "        q_counts['4'] += 1\n",
    "\n",
    "for quadrant, value in q_counts.items():\n",
    "    print(str(value) + \" counts in quadrant \" + str(quadrant))"
   ]
  },
  {
   "cell_type": "markdown",
   "metadata": {},
   "source": [
    "#### 3. Find the point closest to the center. Calculate its distance to the center. \n",
    "Take into account that there might be more than one point at the minimum distance to the center.\n",
    "\n",
    "**Hint**: Use the Euclidean distance. You can find more information about it [here](https://en.wikipedia.org/wiki/Euclidean_distance).  \n",
    "**Hint**: Defining a function that calculates the distance to the center can help."
   ]
  },
  {
   "cell_type": "code",
   "execution_count": 72,
   "metadata": {},
   "outputs": [
    {
     "name": "stdout",
     "output_type": "stream",
     "text": [
      "Points with minimal distance to the center of 2.0 are \n",
      "[(0, 2), (0, -2)]\n"
     ]
    }
   ],
   "source": [
    "def dist(point):\n",
    "    if isinstance(point, tuple) and len(point) == 2:\n",
    "        return (point[0]**2+point[1]**2)**0.5\n",
    "    else:\n",
    "        print('point is not a 2d tuple')\n",
    "\n",
    "# Using the above created dictionary 'checked' of unique points,\n",
    "# to create a dictionary with points and their corresponding distances\n",
    "distances = checked.copy()\n",
    "\n",
    "for key, value in checked.items():\n",
    "    distances[key] = dist(key)\n",
    "\n",
    "# List of points with minimal distance\n",
    "min_dist_lst = []\n",
    "    \n",
    "for key, value in distances.items():\n",
    "    if value == min(distances.values()):\n",
    "        min_dist_lst.append(key)\n",
    "        \n",
    "print('Points with minimal distance to the center of ' \n",
    "      + str(min(distances.values()))\n",
    "      + ' are \\n'\n",
    "      + str(min_dist_lst)\n",
    "     )"
   ]
  },
  {
   "cell_type": "markdown",
   "metadata": {},
   "source": [
    "#### 4. If the archery target has a radius of 9, calculate the number of arrows that won't hit the target. \n",
    "**Hint**: Use the function created in step 3. "
   ]
  },
  {
   "cell_type": "code",
   "execution_count": 79,
   "metadata": {},
   "outputs": [
    {
     "name": "stdout",
     "output_type": "stream",
     "text": [
      "Robin did not hit 2 shots\n"
     ]
    }
   ],
   "source": [
    "# Creating a list containing a 0 for every point on target, a 1\n",
    "# for every shot missed\n",
    "missed_lst = [1 if dist(point) > 9 else 0 for point in points]\n",
    "\n",
    "# The sum of it should be the number of shots missed\n",
    "print('Robin did not hit ' + str(sum(missed_lst)) + ' shots')\n"
   ]
  }
 ],
 "metadata": {
  "kernelspec": {
   "display_name": "Python 3",
   "language": "python",
   "name": "python3"
  },
  "language_info": {
   "codemirror_mode": {
    "name": "ipython",
    "version": 3
   },
   "file_extension": ".py",
   "mimetype": "text/x-python",
   "name": "python",
   "nbconvert_exporter": "python",
   "pygments_lexer": "ipython3",
   "version": "3.7.3"
  }
 },
 "nbformat": 4,
 "nbformat_minor": 2
}
